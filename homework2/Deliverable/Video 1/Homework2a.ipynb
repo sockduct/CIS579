{
 "cells": [
  {
   "cell_type": "markdown",
   "id": "408aa545-789c-41b4-9144-1d94785aef16",
   "metadata": {},
   "source": [
    "# Homework 2, Part 1\n",
    "## Building a Conversational Q&A Chatbot with Gemini Pro\n",
    "\n",
    "## James Small\n",
    "## CIS-579-002, Introduction to Artificial Intelligence"
   ]
  },
  {
   "cell_type": "code",
   "execution_count": 6,
   "id": "1eb88cbf-b7e4-41c2-98b7-73a404c7d550",
   "metadata": {
    "jp-MarkdownHeadingCollapsed": true
   },
   "outputs": [
    {
     "data": {
      "text/html": [
       "\n",
       "    <h3>PDF Document chosen for this project:</h3>\n",
       "    <hr>\n",
       "    <div style=\"text-align: center;\">\n",
       "        <a href=\"Mathematics%20for%20Machine%20Learning.pdf\" target=\"_blank\">Mathematics for Machine Learning.pdf</a>\n",
       "    </div>\n",
       "    <hr>\n",
       "    <a href=\"https://mml-book.github.io\" target=\"_blank\">Mathematics for Machine Learning Site</a>\n"
      ],
      "text/plain": [
       "<IPython.core.display.HTML object>"
      ]
     },
     "execution_count": 6,
     "metadata": {},
     "output_type": "execute_result"
    }
   ],
   "source": [
    "from IPython.display import HTML\n",
    "import urllib.parse\n",
    "\n",
    "filename = 'Mathematics for Machine Learning.pdf'\n",
    "encoded_filename = urllib.parse.quote(filename)  # Encode spaces\n",
    "\n",
    "HTML(f'''\n",
    "    <h3>PDF Document chosen for this project:</h3>\n",
    "    <hr>\n",
    "    <div style=\"text-align: center;\">\n",
    "        <a href=\"{encoded_filename}\" target=\"_blank\">{filename}</a>\n",
    "    </div>\n",
    "    <hr>\n",
    "    <a href=\"https://mml-book.github.io\" target=\"_blank\">Mathematics for Machine Learning Site</a>\n",
    "''')"
   ]
  },
  {
   "attachments": {},
   "cell_type": "markdown",
   "id": "bb40ce95-1dc7-467b-a85e-0a7a543adbc5",
   "metadata": {},
   "source": [
    "### Creation of Object Storage for PDF Document:\n",
    "\n",
    "![alt text](Results/Image1-ObjectStorage.png \"Object Storage Setup\")\n",
    "\n",
    "  * The above shows the created bucket (myagentbucket4321) and the uploaded PDF document in the bucket (Mathematics for Machine Learning.pdf)"
   ]
  },
  {
   "cell_type": "markdown",
   "id": "e23ee49d-57c6-4245-b786-98093759e825",
   "metadata": {},
   "source": [
    "### Chatbot Integration Setup:\n",
    "\n",
    "![alt text](Results/Image2-ChatBot-Integration.png \"Dialogflow Messenger Box\")"
   ]
  },
  {
   "cell_type": "markdown",
   "id": "fa684b12-f559-4bb1-a134-1dbb15f9512c",
   "metadata": {},
   "source": [
    "### Agent Settings Setup:\n",
    "\n",
    "![alt text](Results/Image3-Agent-Settings.png \"Agent Settings\")"
   ]
  },
  {
   "cell_type": "markdown",
   "id": "abd06120-3146-4946-8fbb-1c1e24c527bc",
   "metadata": {},
   "source": [
    "### Chatbot Interaction (Via Conversation History):\n",
    "\n",
    "![alt text](Results/Image4-ChatBot-Interaction.png \"Conversation History\")"
   ]
  },
  {
   "attachments": {},
   "cell_type": "markdown",
   "id": "d95175db-13c8-4602-acb7-c34520167def",
   "metadata": {},
   "source": [
    "## Questions\n",
    "\n",
    "1. What is the primary purpose or goal of your chatbot?\n",
    "    * The Google chatbot allows you to upload a document such as a PDF and then ask questions about it.  You can also ask for summaries, key points, or anything else you're interested in about the document.\n",
    "    * As the documents can be large, this can be a substantial time saver.\n",
    "  * Is it informational, conversational, or transactional?\n",
    "    * In this case, I would say this is an informational chatbot.  The goal is to allow interactive questioning, summarization, and exploration of an uploaded document.\n",
    "2. How did you feel working with Google AI Studio?\n",
    "    * I am most comfortable with AWS and have some experience with Azure but little experience with GCP.  GCP/Google AI Studio looks interesting but also a bit overwhelming.  During the project setup, I ran into some issues which I struggled to troubleshoot due to my lack of familiarity with the platform.  From this basic assignment, I can see there are a huge amount of controls and parameters.  To work with this solution more, I would have to invest a lot of time to ramp up with it.  So, to answer the question, I feel like someone who is only capable of following a detailed cookbook recipe, and I don't really know how to use the solution.  Given that, I am not comfortable with the solution.\n",
    "3. How will you gather feedback from users to improve the chatbot over time?\n",
    "    * Assuming you follow the directions and leave Conversational History enabled, this would provide a way to view user interactions with the chatbot.  In addition, when creating a web site to host the chatbot, you could also provide a form and/or e-mail address to submit feedback to.\n",
    "4. How will you test the chatbot to ensure it performs as expected?\n",
    "    * The best test would be to take a sizeable document that you're familiar with and upload this to the chatbot.  You could then ask the chatbot for a summary, key points, and pointed questions to gauge its effectiveness with answering questions on the source document.\n",
    "5. What are the ethical considerations to keep in mind when designing and deploying the chatbot?\n",
    "    * If you collect the conversational history, you need to inform users that all interactions are recorded and may be reviewed for development, improvement, and policy compliance.  You should also warn users not to enter personal or sensitive information because of this.  Failure to be transparent about what is collected and how it's used could result in legal liability and a poor reputation for the chatbot service.  Ideally, users should have the ability to opt out or to delete part or all of their conversational history.  In addition, a data governance policy should be setup to ensure the data is stored securely and is only kept for a limited amount of time before being deleted.\n",
    "6. Optional: How does the \"grounding\" impact the results.\n",
    "    * Per the GCP documentation, grounding is a data store agent setting which calculates a confidence level for each response generated.  The score represents the confidence level that the response is supported by the information (e.g., document) in the data store.  Confidence levels range from very low to very high.  This feature also has a heuristics filter which can filter responses likely the be inaccurate due to hallucination.\n",
    "    * Source:  [Data store agent settings](https://cloud.google.com/dialogflow/cx/docs/concept/data-store/settings)"
   ]
  }
 ],
 "metadata": {
  "kernelspec": {
   "display_name": "Python 3 (ipykernel)",
   "language": "python",
   "name": "python3"
  },
  "language_info": {
   "codemirror_mode": {
    "name": "ipython",
    "version": 3
   },
   "file_extension": ".py",
   "mimetype": "text/x-python",
   "name": "python",
   "nbconvert_exporter": "python",
   "pygments_lexer": "ipython3",
   "version": "3.13.1"
  }
 },
 "nbformat": 4,
 "nbformat_minor": 5
}
