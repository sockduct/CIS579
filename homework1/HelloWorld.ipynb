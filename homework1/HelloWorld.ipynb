{
 "cells": [
  {
   "cell_type": "markdown",
   "id": "3a22a436-1803-40dc-87f4-47b756227b6e",
   "metadata": {},
   "source": [
    "# My Notebook from following along with [Python Machine Learning Tutorial](https://www.youtube.com/watch?v=7eh4d6sabA0)\n",
    "\n",
    "## James Small\n",
    "## CIS-579-002, Introduction to Artificial Intelligence"
   ]
  },
  {
   "cell_type": "code",
   "execution_count": 53,
   "id": "2fe8a03c-be8f-4938-9726-e6039f78da86",
   "metadata": {},
   "outputs": [
    {
     "data": {
      "text/plain": [
       "1.0"
      ]
     },
     "execution_count": 53,
     "metadata": {},
     "output_type": "execute_result"
    }
   ],
   "source": [
    "'''\n",
    "Load data, split between testing and training, train model, make predictions, and score\n",
    "'''\n",
    "import pandas as pd\n",
    "from sklearn.tree import DecisionTreeClassifier\n",
    "from sklearn.model_selection import train_test_split\n",
    "from sklearn.metrics import accuracy_score\n",
    "\n",
    "music_data = pd.read_csv('music.csv')\n",
    "X = music_data.drop(columns=['genre'])  # Input dataset\n",
    "y = music_data['genre']  # Output dataset\n",
    "# Set aside 20% of data for testing:\n",
    "X_train, X_test, y_train, y_test = train_test_split(X, y, test_size=0.2)\n",
    "\n",
    "model = DecisionTreeClassifier()\n",
    "model.fit(X_train, y_train)\n",
    "\n",
    "# Manual predictions for testing:\n",
    "# predictions = model.predict([[21, 1], [22, 0]])\n",
    "predictions = model.predict(X_test)\n",
    "score = accuracy_score(y_test, predictions)\n",
    "score"
   ]
  },
  {
   "cell_type": "code",
   "execution_count": 60,
   "id": "9716c77d-4941-4377-b0c0-5184520ac1b0",
   "metadata": {},
   "outputs": [
    {
     "data": {
      "text/plain": [
       "['music-recommender.joblib']"
      ]
     },
     "execution_count": 60,
     "metadata": {},
     "output_type": "execute_result"
    }
   ],
   "source": [
    "'''\n",
    "Load data, train model, serialize to disk\n",
    "'''\n",
    "import pandas as pd\n",
    "from sklearn.tree import DecisionTreeClassifier\n",
    "import joblib\n",
    "\n",
    "music_data = pd.read_csv('music.csv')\n",
    "X = music_data.drop(columns=['genre'])  # Input dataset\n",
    "y = music_data['genre']  # Output dataset\n",
    "\n",
    "model = DecisionTreeClassifier()\n",
    "# Per StackOverflow changed from X to X.values to eliminate the following warning from\n",
    "# sklearn.utils.validation:\n",
    "# UserWarning: X does not have valid feature names, but DecisionTreeClassifier was fitted with feature names\n",
    "model.fit(X.values, y)\n",
    "\n",
    "joblib.dump(model, 'music-recommender.joblib')"
   ]
  },
  {
   "cell_type": "code",
   "execution_count": 61,
   "id": "db909aae-7301-45b3-82d9-24b5661a2a6b",
   "metadata": {},
   "outputs": [
    {
     "data": {
      "text/plain": [
       "array(['HipHop'], dtype=object)"
      ]
     },
     "execution_count": 61,
     "metadata": {},
     "output_type": "execute_result"
    }
   ],
   "source": [
    "'''\n",
    "Load model from serialized file and use to make predictions\n",
    "'''\n",
    "model = joblib.load('music-recommender.joblib')\n",
    "predictions = model.predict([[21, 1]])\n",
    "predictions"
   ]
  },
  {
   "cell_type": "code",
   "execution_count": 62,
   "id": "3b6c46eb-e63a-41b4-9216-37eed7cd2c3d",
   "metadata": {},
   "outputs": [],
   "source": [
    "'''\n",
    "Load data, train, visualilze model using Graphviz (create dot file)\n",
    "Graphviz is a supplemental tool which renders the dot file for viewing\n",
    "'''\n",
    "import pandas as pd\n",
    "from sklearn.tree import DecisionTreeClassifier\n",
    "from sklearn import tree\n",
    "\n",
    "music_data = pd.read_csv('music.csv')\n",
    "X = music_data.drop(columns=['genre'])  # Input dataset\n",
    "y = music_data['genre']  # Output dataset\n",
    "\n",
    "model = DecisionTreeClassifier()\n",
    "model.fit(X, y)\n",
    "\n",
    "'''\n",
    "Parameters:\n",
    "* feature_names - features to use\n",
    "* class_names - unique list of genres\n",
    "* label - all nodes labeled\n",
    "* rounded - graphviz box uses rounded corners\n",
    "* filled - graphviz box filled with color\n",
    "'''\n",
    "tree.export_graphviz(model, out_file='music-recommender.dot', feature_names=['age', 'gender'],\n",
    "                     class_names=sorted(y.unique()), label='all', rounded=True, filled=True)"
   ]
  },
  {
   "cell_type": "markdown",
   "id": "0abc8647-c59e-4864-a4dc-9fc99766647f",
   "metadata": {},
   "source": [
    "# Rendered Graphviz dot file:\n",
    "\n",
    "![alt text](tree.png \"Decision Tree Visualization\")"
   ]
  },
  {
   "cell_type": "markdown",
   "id": "c0a53a62-e606-4964-a6ed-cb542ecfbb34",
   "metadata": {},
   "source": [
    "# Additional Questions\n",
    "\n",
    "1) In AI we generally work with huge data sets, what are other sources you know like kaggle for getting access to these collections of sample data sets?\n",
    "  * In addition to Kaggle, some other good open dataset sources include:\n",
    "    * [data.gov](https://data.gov)\n",
    "    * [UC Irvine Machine Learning Repository](https://archive.ics.uci.edu)\n",
    "    * [Earth Data from NASA](https://www.earthdata.nasa.gov)\n",
    "    * [Common Crawl web crawl data](https://commoncrawl.org)\n",
    "    * [ImageNet](https://www.image-net.org)\n",
    "    * [Hugging Face Datasets](https://huggingface.co/docs/datasets/en/index)\n",
    "\n",
    "2) After the implementation, do you feel comfortable working with ML tools and technologies? What are the challenges you faced and the learning you got from the implementation.\n",
    "  * I am fluent in Python and comfortable with data analysis tools like numpy, pandas, and matplotlib.  I have never used scikit-learn before.  This is a good start; however, I feel I need to spend more time with scikit-learn to say I'm comfortable approaching machine learning with it.\n"
   ]
  }
 ],
 "metadata": {
  "kernelspec": {
   "display_name": "Python 3 (ipykernel)",
   "language": "python",
   "name": "python3"
  },
  "language_info": {
   "codemirror_mode": {
    "name": "ipython",
    "version": 3
   },
   "file_extension": ".py",
   "mimetype": "text/x-python",
   "name": "python",
   "nbconvert_exporter": "python",
   "pygments_lexer": "ipython3",
   "version": "3.13.1"
  }
 },
 "nbformat": 4,
 "nbformat_minor": 5
}
