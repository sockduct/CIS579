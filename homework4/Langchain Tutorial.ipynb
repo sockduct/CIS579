{
 "cells": [
  {
   "cell_type": "code",
   "execution_count": 36,
   "id": "e74a3143-9b76-49a4-b142-fcd709e5155c",
   "metadata": {},
   "outputs": [],
   "source": [
    "import keyring\n",
    "\n",
    "SERVICE = 'OpenAI'\n",
    "NAME = 'HomeworkAPIKey'\n",
    "SERVICE2 = 'SerpAPI'\n",
    "NAME2 = 'APIKey'\n",
    "\n",
    "apikey = keyring.get_password(SERVICE, NAME)\n",
    "apikey2 = keyring.get_password(SERVICE2, NAME2)"
   ]
  },
  {
   "cell_type": "code",
   "execution_count": 6,
   "id": "b5aed0bc-dfab-4c6c-b141-7ab921387f45",
   "metadata": {},
   "outputs": [
    {
     "name": "stdout",
     "output_type": "stream",
     "text": [
      "\n",
      "\n",
      "\"La Dolce Vita\"\n"
     ]
    }
   ],
   "source": [
    "from langchain.llms import OpenAI\n",
    "\n",
    "# Temperature = creativity\n",
    "# 0 = play it safe\n",
    "# 1 = super creative but higher risk of hallucination\n",
    "llm = OpenAI(temperature=0.6, api_key=apikey)\n",
    "name = llm('I want to open a restaurant for Italian food. Suggest a fancy name for this.')\n",
    "print(name)"
   ]
  },
  {
   "cell_type": "code",
   "execution_count": 14,
   "id": "39bee1ad-a8dd-48b7-94ae-b2c3d310e364",
   "metadata": {},
   "outputs": [
    {
     "data": {
      "text/plain": [
       "'I want to open a restaurant for Mexican food. Suggest a fancy name for this.'"
      ]
     },
     "execution_count": 14,
     "metadata": {},
     "output_type": "execute_result"
    }
   ],
   "source": [
    "from langchain.prompts import PromptTemplate\n",
    "\n",
    "import warnings\n",
    "from langchain_core._api.deprecation import LangChainDeprecationWarning\n",
    "\n",
    "warnings.filterwarnings(\"ignore\", category=LangChainDeprecationWarning)\n",
    "\n",
    "prompt_template_name = PromptTemplate(\n",
    "    input_variables = ['cuisine'],\n",
    "    template = 'I want to open a restaurant for {cuisine} food. Suggest a fancy name for this.'\n",
    ")\n",
    "prompt_template_name.format(cuisine='Mexican')"
   ]
  },
  {
   "cell_type": "code",
   "execution_count": 16,
   "id": "c892213b-7da5-4d2a-89bb-0167ebae61c2",
   "metadata": {},
   "outputs": [
    {
     "data": {
      "text/plain": [
       "'\\n\"Polish Delights\" or \"Polskie Piękności\" (Polish Beauties)'"
      ]
     },
     "execution_count": 16,
     "metadata": {},
     "output_type": "execute_result"
    }
   ],
   "source": [
    "from langchain.chains import LLMChain\n",
    "\n",
    "name_chain = LLMChain(llm=llm, prompt=prompt_template_name)\n",
    "chain.run('Polish')"
   ]
  },
  {
   "cell_type": "code",
   "execution_count": 17,
   "id": "d8f03795-bd2a-4b65-9bc4-9d1a58edcac0",
   "metadata": {},
   "outputs": [],
   "source": [
    "prompt_template_items = PromptTemplate(\n",
    "    input_variables = ['restaurant_name'],\n",
    "    template = '''Suggest some menu items for {restaurant_name}. Return it as a comma separted list.'''\n",
    ")\n",
    "food_items_chain = LLMChain(llm=llm, prompt=prompt_template_items)"
   ]
  },
  {
   "cell_type": "code",
   "execution_count": 18,
   "id": "2d3cefe5-bcbe-4679-b810-9e90040714ca",
   "metadata": {},
   "outputs": [
    {
     "name": "stdout",
     "output_type": "stream",
     "text": [
      "\n",
      "\n",
      "1. Samosas\n",
      "2. Chicken Tikka Masala\n",
      "3. Lamb Vindaloo\n",
      "4. Palak Paneer\n",
      "5. Vegetable Biryani\n",
      "6. Tandoori Shrimp\n",
      "7. Garlic Naan\n",
      "8. Mango Lassi\n",
      "9. Chana Masala\n",
      "10. Butter Chicken\n",
      "11. Aloo Gobi\n",
      "12. Dal Makhani\n",
      "13. Chicken Korma\n",
      "14. Vegetable Curry\n",
      "15. Gulab Jamun (dessert)\n"
     ]
    }
   ],
   "source": [
    "from langchain.chains import SimpleSequentialChain\n",
    "\n",
    "chain = SimpleSequentialChain(chains=[name_chain, food_items_chain])\n",
    "response = chain.run('Indian')\n",
    "print(response)\n",
    "\n",
    "# Note:  Don't get restaurant name!"
   ]
  },
  {
   "cell_type": "code",
   "execution_count": 19,
   "id": "4b38325f-c099-4cdf-b53a-70b19d106f11",
   "metadata": {},
   "outputs": [],
   "source": [
    "# Increasing creativity level:\n",
    "llm = OpenAI(temperature=0.7, api_key=apikey)\n",
    "\n",
    "name_chain = LLMChain(llm=llm, prompt=prompt_template_name, output_key='restaurant_name')\n",
    "food_items_chain = LLMChain(llm=llm, prompt=prompt_template_items, output_key='menu_items')"
   ]
  },
  {
   "cell_type": "code",
   "execution_count": 20,
   "id": "bb35a0ce-44ee-45bb-8ad6-e37dab83a28e",
   "metadata": {},
   "outputs": [
    {
     "data": {
      "text/plain": [
       "{'cuisine': 'Arabic',\n",
       " 'restaurant_name': '\\n\\n\"Saffron Palace\"',\n",
       " 'menu_items': '\\n\\n1. Saffron Chicken Tikka Masala\\n2. Vegetable Biryani\\n3. Lamb Korma\\n4. Tandoori Shrimp\\n5. Palak Paneer\\n6. Garlic Naan\\n7. Mango Lassi\\n8. Samosas\\n9. Chicken Vindaloo\\n10. Dal Makhani'}"
      ]
     },
     "execution_count": 20,
     "metadata": {},
     "output_type": "execute_result"
    }
   ],
   "source": [
    "from langchain.chains import SequentialChain\n",
    "\n",
    "chain = SequentialChain(\n",
    "    chains = [name_chain, food_items_chain],\n",
    "    input_variables = ['cuisine'],\n",
    "    output_variables = ['restaurant_name', 'menu_items']\n",
    ")\n",
    "chain({'cuisine': 'Arabic'})"
   ]
  },
  {
   "cell_type": "code",
   "execution_count": 24,
   "id": "3e04d8af-934f-4631-a713-7b37c5ed480d",
   "metadata": {},
   "outputs": [
    {
     "name": "stdout",
     "output_type": "stream",
     "text": [
      "\n",
      "\n",
      "\u001b[1m> Entering new AgentExecutor chain...\u001b[0m\n",
      "\u001b[32;1m\u001b[1;3m I should use Wikipedia to find information on Elon Musk\n",
      "Action: wikipedia\n",
      "Action Input: Elon Musk\u001b[0m\n",
      "Observation: \u001b[36;1m\u001b[1;3mPage: Elon Musk\n",
      "Summary: Elon Reeve Musk ( EE-lon; born June 28, 1971) is a businessman known for his key roles in Tesla, SpaceX, and Twitter (which he rebranded as X). Since 2025, he has been a senior advisor to United States president Donald Trump and the de facto head of the Department of Government Efficiency (DOGE). Musk is the wealthiest person in the world; as of March 2025, Forbes estimates his net worth to be $320 billion USD. \n",
      "Born to a wealthy family in Pretoria, South Africa, Musk emigrated in 1989 to Canada, whose citizenship he had inherited through his mother. He graduated from the University of Pennsylvania in the U.S. before moving to California to pursue business ventures. In 1995, Musk co-founded the software company Zip2. Following its sale in 1999, he co-founded X.com, an online payment company that later merged to form PayPal, which was acquired by eBay in 2002 for $1.5 billion. That year, Musk also became a U.S. citizen.\n",
      "In 2002, Musk founded SpaceX and became its CEO and chief engineer. The company has since led innovations in reusable rockets and commercial spaceflight. In 2004, Musk joined Tesla, Inc. as an early investor, and became its CEO and product architect in 2008; it has become a market leader in electric vehicles. In 2015, he co-founded OpenAI to advance artificial intelligence research, but left its board in 2018. In 2016, Musk co-founded Neuralink, a company focused on brain–computer interfaces, and in 2017 launched the Boring Company, which aims to develop tunnel transportation. Musk was named Time magazine's Person of the Year in 2021. In 2022, he acquired Twitter, implementing significant changes and rebranding it as X in 2023. In January 2025, he was appointed head of Trump's newly created DOGE.\n",
      "Musk's political activities and views have made him a polarizing figure. He has been criticized for making unscientific and misleading statements, including COVID-19 misinformation and promoting conspiracy theories. His acquisition of Twitter (now X) was controversial due to a subsequent increase in hate speech and the spread of misinformation on the service. He has engaged in political activities in several countries, including as a vocal and financial supporter of Trump. Musk was the largest donor in the 2024 U.S. presidential election and is a supporter of global far-right figures, causes, and political parties.\n",
      "\n",
      "Page: Elon Musk salute controversy\n",
      "Summary: On January 20, 2025, while speaking at a rally celebrating U.S. president Donald Trump's second inauguration, businessman and political figure Elon Musk twice made a salute interpreted by some as a Nazi or the fascist Roman salute.\n",
      "On his own social media platform, X (formerly Twitter), Musk dismissed the accusations of Nazi sympathies, derided them as being politicized, and described them as a \"tired\" attack. The Anti-Defamation League defended Musk and argued that the gesture carried no significant meaning, but other Jewish organizations have condemned the gesture. Multiple European political parties demanded that Musk be banned from entering their countries. Neo-Nazi and white supremacist groups celebrated the salutes.\n",
      "\n",
      "\n",
      "\n",
      "Page: Wealth of Elon Musk\n",
      "Summary: Elon Musk is the  wealthiest person in the world, with an estimated net worth of US$305 billion as of March 16, 2025, according to the Bloomberg Billionaires Index, and $320 billion according to Forbes, primarily from his ownership stakes in Tesla and SpaceX. \n",
      "Having been first listed on the Forbes Billionaires List in 2012, around 75% of Musk's wealth was derived from Tesla stock in November 2020. Describing himself as \"cash poor\", a year later, he became the first person in the world to have a net worth above $300 billion. By December 2024, he became the first person to reach a net worth of $400 billion.\u001b[0m\n",
      "Thought:\u001b[32;1m\u001b[1;3m I should use the Calculator to find out Elon Musk's age in 2025\n",
      "Action: Calculator\n",
      "Action Input: 2025 - 1971\u001b[0m\n",
      "Observation: \u001b[33;1m\u001b[1;3mAnswer: 54\u001b[0m\n",
      "Thought:\u001b[32;1m\u001b[1;3m I now know the final answer\n",
      "Final Answer: Elon Musk will be 54 years old in 2025.\u001b[0m\n",
      "\n",
      "\u001b[1m> Finished chain.\u001b[0m\n"
     ]
    },
    {
     "data": {
      "text/plain": [
       "'Elon Musk will be 54 years old in 2025.'"
      ]
     },
     "execution_count": 24,
     "metadata": {},
     "output_type": "execute_result"
    }
   ],
   "source": [
    "from langchain.agents import AgentType, initialize_agent, load_tools\n",
    "\n",
    "# Google for langchain agent load tools to get list in docs:\n",
    "# Currently:  https://python.langchain.com/docs/integrations/tools/\n",
    "tools = load_tools(['wikipedia', 'llm-math'], llm=llm)\n",
    "\n",
    "agent = initialize_agent(\n",
    "    tools,\n",
    "    llm,\n",
    "    agent=AgentType.ZERO_SHOT_REACT_DESCRIPTION,\n",
    "    verbose=True\n",
    ")\n",
    "\n",
    "agent.run('When was Elon Musk born?  What is his age as of March 23, 2025?')"
   ]
  },
  {
   "cell_type": "code",
   "execution_count": 39,
   "id": "235c1209-ea85-4f5c-a276-af033c2fe1d8",
   "metadata": {},
   "outputs": [],
   "source": [
    "llm2 = OpenAI(temperature=0, openai_api_key=apikey)\n",
    "\n",
    "# The tools we'll give the agent access to.  Note that the 'llm-math' tool uses an LLM\n",
    "tools2 = load_tools(['serpapi', 'llm-math'], llm=llm2, serpapi_api_key=apikey2)\n",
    "agent2 = initialize_agent(tools2, llm2, agent=AgentType.ZERO_SHOT_REACT_DESCRIPTION, verbose=True)\n",
    "\n",
    "# Can't get to work - maybe wrong format?\n",
    "# Can retrieve search results for US GDP in 2024, but maybe need different method\n",
    "# to take that result and add 5 to it...\n",
    "# agent2.run('What was the US GDP in 2024 plus 5?')"
   ]
  },
  {
   "cell_type": "code",
   "execution_count": 43,
   "id": "7706f44c-a680-469e-8d61-50713edbcf10",
   "metadata": {},
   "outputs": [
    {
     "name": "stdout",
     "output_type": "stream",
     "text": [
      "\n",
      "\n",
      "\"Casa del Sabor\" (House of Flavor)\n"
     ]
    }
   ],
   "source": [
    "# Memory (keep within context window):\n",
    "# By default - chains are stateless or each query is a new context window\n",
    "# Can attach \"memory\" or context to chain.memory\n",
    "\n",
    "from langchain.memory import ConversationBufferMemory\n",
    "\n",
    "memory = ConversationBufferMemory()\n",
    "chain = LLMChain(llm=llm, prompt=prompt_template_name, memory=memory)\n",
    "name = chain.run('Mexican')\n",
    "print(name)"
   ]
  },
  {
   "cell_type": "code",
   "execution_count": 47,
   "id": "ed3ecb97-dd3f-4d08-b1d8-aacd881381e4",
   "metadata": {},
   "outputs": [
    {
     "name": "stdout",
     "output_type": "stream",
     "text": [
      "name=\"Polska Perfection\"\n",
      "\n",
      "chain.memory:\n",
      "ConversationBufferMemory(chat_memory=InMemoryChatMessageHistory(messages=[HumanMessage(content='Mexican', additional_kwargs={}, response_metadata={}), AIMessage(content='\\n\\n\"Casa del Sabor\" (House of Flavor)', additional_kwargs={}, response_metadata={}), HumanMessage(content='Polish', additional_kwargs={}, response_metadata={}), AIMessage(content='\\n\\n\"Polish Palate\"', additional_kwargs={}, response_metadata={}), HumanMessage(content='Polish', additional_kwargs={}, response_metadata={}), AIMessage(content='\\n\\n\"Polonez Palace\"', additional_kwargs={}, response_metadata={}), HumanMessage(content='Polish', additional_kwargs={}, response_metadata={}), AIMessage(content='\\n\\n\"Polska Perfection\"', additional_kwargs={}, response_metadata={})]))\n",
      "\n",
      "\n",
      "chain.memory.buffer:\n",
      "Human: Mexican\n",
      "AI: \n",
      "\n",
      "\"Casa del Sabor\" (House of Flavor)\n",
      "Human: Polish\n",
      "AI: \n",
      "\n",
      "\"Polish Palate\"\n",
      "Human: Polish\n",
      "AI: \n",
      "\n",
      "\"Polonez Palace\"\n",
      "Human: Polish\n",
      "AI: \n",
      "\n",
      "\"Polska Perfection\"\n"
     ]
    }
   ],
   "source": [
    "from pprint import pprint\n",
    "\n",
    "name = chain.run('Polish')\n",
    "print(f'name={name.strip()}\\n\\nchain.memory:')\n",
    "pprint(chain.memory)\n",
    "print(f'\\n\\nchain.memory.buffer:\\n{chain.memory.buffer}')"
   ]
  },
  {
   "cell_type": "code",
   "execution_count": 49,
   "id": "6dd122f4-8558-49d0-8a12-cf1a89d1cfe5",
   "metadata": {},
   "outputs": [
    {
     "name": "stdout",
     "output_type": "stream",
     "text": [
      "The following is a friendly conversation between a human and an AI. The AI is talkative and provides lots of specific details from its context. If the AI does not know the answer to a question, it truthfully says it does not know.\n",
      "\n",
      "Current conversation:\n",
      "{history}\n",
      "Human: {input}\n",
      "AI:\n"
     ]
    }
   ],
   "source": [
    "from langchain.chains import ConversationChain\n",
    "\n",
    "conchn = ConversationChain(llm=OpenAI(temperature=0.7, openai_api_key=apikey))\n",
    "print(conchn.prompt.template)"
   ]
  },
  {
   "cell_type": "code",
   "execution_count": 50,
   "id": "60567395-51e0-4cb6-b4e1-004d7dd8761d",
   "metadata": {},
   "outputs": [
    {
     "data": {
      "text/plain": [
       "' The first Super Bowl was won by the Green Bay Packers in 1967. They defeated the Kansas City Chiefs with a score of 35-10 at the Los Angeles Memorial Coliseum. The MVP of the game was Bart Starr, the quarterback for the Packers. The game was not yet officially called the Super Bowl at the time, it was known as the AFL-NFL World Championship Game.'"
      ]
     },
     "execution_count": 50,
     "metadata": {},
     "output_type": "execute_result"
    }
   ],
   "source": [
    "conchn.run('Who won the first super bowl?')"
   ]
  },
  {
   "cell_type": "code",
   "execution_count": 51,
   "id": "7ee7c93e-0895-4a8b-bd78-f67ae806727a",
   "metadata": {},
   "outputs": [
    {
     "data": {
      "text/plain": [
       "' 5+5 is 10.'"
      ]
     },
     "execution_count": 51,
     "metadata": {},
     "output_type": "execute_result"
    }
   ],
   "source": [
    "conchn.run('What is 5+5?')"
   ]
  },
  {
   "cell_type": "code",
   "execution_count": 52,
   "id": "0cd5cfa6-ea59-4c83-a6de-b728dff266c4",
   "metadata": {},
   "outputs": [
    {
     "data": {
      "text/plain": [
       "' The quarterback for the Kansas City Chiefs during the first Super Bowl was Len Dawson. He completed 16 of 27 passes for 211 yards and one touchdown, but unfortunately, it was not enough to defeat the Green Bay Packers.'"
      ]
     },
     "execution_count": 52,
     "metadata": {},
     "output_type": "execute_result"
    }
   ],
   "source": [
    "conchn.run('Who was the quarterback for the chiefs?')"
   ]
  },
  {
   "cell_type": "code",
   "execution_count": 57,
   "id": "379bc361-452a-49e5-91f7-3b0a39552e2a",
   "metadata": {},
   "outputs": [
    {
     "name": "stdout",
     "output_type": "stream",
     "text": [
      "ConversationBufferMemory(chat_memory=InMemoryChatMessageHistory(messages=[HumanMessage(content='Who won the first super bowl?', additional_kwargs={}, response_metadata={}), AIMessage(content=' The first Super Bowl was won by the Green Bay Packers in 1967. They defeated the Kansas City Chiefs with a score of 35-10 at the Los Angeles Memorial Coliseum. The MVP of the game was Bart Starr, the quarterback for the Packers. The game was not yet officially called the Super Bowl at the time, it was known as the AFL-NFL World Championship Game.', additional_kwargs={}, response_metadata={}), HumanMessage(content='What is 5+5?', additional_kwargs={}, response_metadata={}), AIMessage(content=' 5+5 is 10.', additional_kwargs={}, response_metadata={}), HumanMessage(content='Who was the quarterback for the chiefs?', additional_kwargs={}, response_metadata={}), AIMessage(content=' The quarterback for the Kansas City Chiefs during the first Super Bowl was Len Dawson. He completed 16 of 27 passes for 211 yards and one touchdown, but unfortunately, it was not enough to defeat the Green Bay Packers.', additional_kwargs={}, response_metadata={})]))\n"
     ]
    }
   ],
   "source": [
    "pprint(conchn.memory)"
   ]
  },
  {
   "cell_type": "code",
   "execution_count": 58,
   "id": "e3bb44db-fb28-438a-81ac-00a9efa276be",
   "metadata": {
    "jupyter": {
     "source_hidden": true
    }
   },
   "outputs": [
    {
     "name": "stdout",
     "output_type": "stream",
     "text": [
      "Human: Who won the first super bowl?\n",
      "AI:  The first Super Bowl was won by the Green Bay Packers in 1967. They defeated the Kansas City Chiefs with a score of 35-10 at the Los Angeles Memorial Coliseum. The MVP of the game was Bart Starr, the quarterback for the Packers. The game was not yet officially called the Super Bowl at the time, it was known as the AFL-NFL World Championship Game.\n",
      "Human: What is 5+5?\n",
      "AI:  5+5 is 10.\n",
      "Human: Who was the quarterback for the chiefs?\n",
      "AI:  The quarterback for the Kansas City Chiefs during the first Super Bowl was Len Dawson. He completed 16 of 27 passes for 211 yards and one touchdown, but unfortunately, it was not enough to defeat the Green Bay Packers.\n"
     ]
    }
   ],
   "source": [
    "print(conchn.memory.buffer)"
   ]
  },
  {
   "cell_type": "code",
   "execution_count": 59,
   "id": "37495cfe-68c3-454c-8e7e-afd377bfc2a7",
   "metadata": {},
   "outputs": [
    {
     "data": {
      "text/plain": [
       "' The first Super Bowl was played in 1967 between the Green Bay Packers and the Kansas City Chiefs. The Green Bay Packers won with a score of 35-10.'"
      ]
     },
     "execution_count": 59,
     "metadata": {},
     "output_type": "execute_result"
    }
   ],
   "source": [
    "from langchain.memory import ConversationBufferWindowMemory\n",
    "\n",
    "# Remember \n",
    "memory = ConversationBufferWindowMemory(k=1)\n",
    "\n",
    "conchn = ConversationChain(\n",
    "    llm=OpenAI(temperature=0.6, openai_api_key=apikey),\n",
    "    memory=memory,\n",
    ")\n",
    "\n",
    "conchn.run('Who won the first super bowl?')"
   ]
  },
  {
   "cell_type": "code",
   "execution_count": 60,
   "id": "2ac9f6fe-a8b3-40e6-8770-6d058e6c2463",
   "metadata": {},
   "outputs": [
    {
     "data": {
      "text/plain": [
       "' 5 + 5 is 10.'"
      ]
     },
     "execution_count": 60,
     "metadata": {},
     "output_type": "execute_result"
    }
   ],
   "source": [
    "conchn.run('What is 5 + 5?')"
   ]
  },
  {
   "cell_type": "code",
   "execution_count": 61,
   "id": "66f31abb-aed7-49b5-8a87-6367a5ba13f0",
   "metadata": {},
   "outputs": [
    {
     "data": {
      "text/plain": [
       "' The quarterback for the Chiefs was Patrick Mahomes during the 2020 NFL season. He led the team to a Super Bowl victory and was named the Super Bowl MVP.'"
      ]
     },
     "execution_count": 61,
     "metadata": {},
     "output_type": "execute_result"
    }
   ],
   "source": [
    "conchn.run('Who was the quarterback for the chiefs?')"
   ]
  },
  {
   "cell_type": "code",
   "execution_count": null,
   "id": "ab039747-ae2c-4438-b4b4-f346153f919c",
   "metadata": {},
   "outputs": [],
   "source": []
  }
 ],
 "metadata": {
  "kernelspec": {
   "display_name": "Python 3 (ipykernel)",
   "language": "python",
   "name": "python3"
  },
  "language_info": {
   "codemirror_mode": {
    "name": "ipython",
    "version": 3
   },
   "file_extension": ".py",
   "mimetype": "text/x-python",
   "name": "python",
   "nbconvert_exporter": "python",
   "pygments_lexer": "ipython3",
   "version": "3.12.9"
  }
 },
 "nbformat": 4,
 "nbformat_minor": 5
}
