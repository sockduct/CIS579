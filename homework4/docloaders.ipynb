{
 "cells": [
  {
   "cell_type": "code",
   "execution_count": 18,
   "id": "e4766a4a-6c57-4034-adef-36ba6babe455",
   "metadata": {},
   "outputs": [
    {
     "name": "stdout",
     "output_type": "stream",
     "text": [
      "data records:  2\n",
      "example data record:  {'source': 'https://www.moneycontrol.com/news/business/markets/wall-street-rises-as-tesla-soars-on-ai-optimism-11351111.html'}\n"
     ]
    }
   ],
   "source": [
    "from langchain.document_loaders import TextLoader\n",
    "\n",
    "loadert = TextLoader('langchain_tutorial/2_news_research_tool_project/notebooks/nvda_news_1.txt')\n",
    "datat = loader.load()\n",
    "print(f'data records:  {len(datat)}')\n",
    "print(f'example data record:  {datat[0].metadata}')"
   ]
  },
  {
   "cell_type": "code",
   "execution_count": 19,
   "id": "3edaa34e-2311-4995-9fa5-ccb5a816b1b6",
   "metadata": {},
   "outputs": [
    {
     "name": "stdout",
     "output_type": "stream",
     "text": [
      "data records:  2\n",
      "example data record:  {'source': 'https://www.moneycontrol.com/news/business/markets/wall-street-rises-as-tesla-soars-on-ai-optimism-11351111.html'}\n"
     ]
    }
   ],
   "source": [
    "from langchain.document_loaders.csv_loader import CSVLoader\n",
    "\n",
    "loaderc = CSVLoader(\n",
    "    'langchain_tutorial/2_news_research_tool_project/notebooks/movies.csv',\n",
    "    source_column='title',\n",
    ")\n",
    "datac = loader.load()\n",
    "print(f'data records:  {len(datac)}')\n",
    "print(f'example data record:  {datac[0].metadata}')"
   ]
  },
  {
   "cell_type": "code",
   "execution_count": 20,
   "id": "3a9c2264-ab0c-4173-8e25-34f21ffab01b",
   "metadata": {},
   "outputs": [
    {
     "name": "stdout",
     "output_type": "stream",
     "text": [
      "data records:  2\n",
      "example data record:  {'source': 'https://www.moneycontrol.com/news/business/markets/wall-street-rises-as-tesla-soars-on-ai-optimism-11351111.html'}\n"
     ]
    }
   ],
   "source": [
    "from langchain.document_loaders import UnstructuredURLLoader\n",
    "\n",
    "loaderu = UnstructuredURLLoader(urls=[\n",
    "    'https://www.moneycontrol.com/news/business/markets/wall-street-rises-as-tesla-soars-on-ai-optimism-11351111.html',\n",
    "    'https://www.moneycontrol.com/news/business/tata-motors-launches-punch-icng-price-starts-at-rs-7-1-lakh-11098751.html',\n",
    "])\n",
    "datau = loader.load()\n",
    "print(f'data records:  {len(datau)}')\n",
    "print(f'example data record:  {datau[0].metadata}')"
   ]
  },
  {
   "cell_type": "code",
   "execution_count": 35,
   "id": "ba3b33b2-8399-4f30-a9ab-3899e731a2bf",
   "metadata": {},
   "outputs": [
    {
     "name": "stderr",
     "output_type": "stream",
     "text": [
      "WARNING:langchain_text_splitters.base:Created a chunk of size 449, which is longer than the specified 200\n",
      "WARNING:langchain_text_splitters.base:Created a chunk of size 649, which is longer than the specified 200\n",
      "WARNING:langchain_text_splitters.base:Created a chunk of size 458, which is longer than the specified 200\n",
      "WARNING:langchain_text_splitters.base:Created a chunk of size 1010, which is longer than the specified 200\n",
      "WARNING:langchain_text_splitters.base:Created a chunk of size 527, which is longer than the specified 200\n"
     ]
    },
    {
     "name": "stdout",
     "output_type": "stream",
     "text": [
      "chunks:  6\n",
      "Chunk #0 - length of 449\n",
      "Chunk #1 - length of 649\n",
      "Chunk #2 - length of 458\n",
      "Chunk #3 - length of 1010\n",
      "Chunk #4 - length of 527\n",
      "Chunk #5 - length of 448\n"
     ]
    }
   ],
   "source": [
    "from langchain.text_splitter import CharacterTextSplitter\n",
    "import wikipedia\n",
    "\n",
    "# data_ex = wikipedia.page('Interstellar_(film)').content\n",
    "data_ex = '''\n",
    "Interstellar is a 2014 epic science fiction film directed by Christopher Nolan, who co-wrote the screenplay with his brother Jonathan. It stars Matthew McConaughey, Anne Hathaway, Jessica Chastain, Bill Irwin, Ellen Burstyn, and Michael Caine. Set in a dystopian future where Earth is suffering from catastrophic blight and famine, the film follows a group of astronauts who travel through a wormhole near Saturn in search of a new home for mankind.\n",
    "\n",
    "The screenplay had its origins in a script Jonathan developed in 2007 and was originally set to be directed by Steven Spielberg. Theoretical physicist Kip Thorne was an executive producer and scientific consultant on the film, and wrote the tie-in book The Science of Interstellar. It was Lynda Obst's final film as producer before her death. Cinematographer Hoyte van Hoytema shot it on 35 mm film in the Panavision anamorphic format and IMAX 70 mm. Filming began in late 2013 and took place in Alberta, Klaustur, and Los Angeles. Interstellar uses extensive practical and miniature effects, and the company DNEG created additional digital effects.\n",
    "\n",
    "Interstellar was released in theaters on November 7, 2014. In the United States, it was first released on film stock, expanding to venues using digital projectors. The film received generally positive reviews and grossed $681 million worldwide during its initial theatrical run, making it the tenth-highest-grossing film of 2014. Among its various accolades, Interstellar was nominated for five awards at the 87th Academy Awards, winning Best Visual Effects.\n",
    "\n",
    "In the mid-21st century, humanity faces extinction due to dust storms and widespread crop blights. Joseph Cooper, a widowed former NASA test pilot, works as a farmer and raises his children, Murph and Tom, alongside his father-in-law Donald. Living in a post-truth society, Cooper is reprimanded by Murph's teachers for telling her that the Apollo missions were not fabricated. During a dust storm, the two discover that dust patterns in Murph's room, which she first attributes to a ghost, result from a gravitational anomaly, and translate into geographic coordinates. These lead them to a secret NASA facility headed by Professor John Brand, who explains that, 48 years earlier, a wormhole appeared near Saturn, leading to a system in another galaxy with twelve potentially habitable planets located near a black hole named Gargantua. Volunteers of the Lazarus expedition had previously travelled through the wormhole to evaluate the planets, with Miller, Edmunds, and Mann reporting back desirable results.\n",
    "\n",
    "Cooper is enlisted to pilot the Endurance spacecraft through the wormhole as part of a mission to colonize a habitable planet with 5000 frozen embryos and ensure humanity's survival. Meanwhile, Professor Brand would continue his work on solving a gravity equation whose solution would supposedly enable construction of spacecraft for an exodus from Earth. Cooper accepts against Murph's wishes and promises to return. When she refuses to see him off, he leaves her his wristwatch to compare their relative time when he returns.\n",
    "\n",
    "The crew, consisting of Cooper, robots TARS and CASE, and scientists Dr. Amelia Brand (Professor Brand's daughter), Romilly, and Doyle, traverse the wormhole after a two-year voyage to Saturn. Cooper, Doyle and Brand use a lander to investigate Miller's planet, where time is severely dilated. After landing in knee-high water and finding only wreckage from Miller's expedition, a gigantic tidal wave kills Doyle and waterlogs the lander's engines.\n",
    "'''\n",
    "\n",
    "splitter = CharacterTextSplitter(\n",
    "    separator='\\n',\n",
    "    chunk_size=200,\n",
    "    chunk_overlap=0,\n",
    ")\n",
    "\n",
    "chunkex = splitter.split_text(data_ex)\n",
    "print(f'chunks:  {len(chunkex)}')\n",
    "\n",
    "for i, chunk in enumerate(chunkex):\n",
    "    print(f'Chunk #{i} - length of {len(chunk)}')"
   ]
  },
  {
   "cell_type": "code",
   "execution_count": 36,
   "id": "29da1c76-b9cb-49eb-9885-4ede2894afd1",
   "metadata": {},
   "outputs": [
    {
     "name": "stdout",
     "output_type": "stream",
     "text": [
      "chunks:  22\n",
      "Chunk #0 - length of 197\n",
      "Chunk #1 - length of 193\n",
      "Chunk #2 - length of 57\n",
      "Chunk #3 - length of 191\n",
      "Chunk #4 - length of 198\n",
      "Chunk #5 - length of 192\n",
      "Chunk #6 - length of 65\n",
      "Chunk #7 - length of 191\n",
      "Chunk #8 - length of 197\n",
      "Chunk #9 - length of 68\n",
      "Chunk #10 - length of 196\n",
      "Chunk #11 - length of 194\n",
      "Chunk #12 - length of 199\n",
      "Chunk #13 - length of 194\n",
      "Chunk #14 - length of 199\n",
      "Chunk #15 - length of 23\n",
      "Chunk #16 - length of 193\n",
      "Chunk #17 - length of 199\n",
      "Chunk #18 - length of 133\n",
      "Chunk #19 - length of 192\n",
      "Chunk #20 - length of 196\n",
      "Chunk #21 - length of 58\n"
     ]
    }
   ],
   "source": [
    "from langchain.text_splitter import RecursiveCharacterTextSplitter\n",
    "\n",
    "r_splitter = RecursiveCharacterTextSplitter(\n",
    "    # Can provide multiple separators via a list:\n",
    "    # This will first split text by '\\n\\n'\n",
    "    # If any chunks are > 200, it will take those chunks and split by '\\n'\n",
    "    # If any chunks are > 200, it will take those chunks and split by ' '\n",
    "    # If chunks are too small, it will merge them back together\n",
    "    separators=['\\n\\n', '\\n', ' '],\n",
    "    chunk_size=200,\n",
    "    chunk_overlap=0,\n",
    ")\n",
    "chunkex2 = r_splitter.split_text(data_ex)\n",
    "print(f'chunks:  {len(chunkex2)}')\n",
    "\n",
    "for i, chunk in enumerate(chunkex2):\n",
    "    print(f'Chunk #{i} - length of {len(chunk)}')"
   ]
  },
  {
   "cell_type": "code",
   "execution_count": null,
   "id": "dca053f3-3ebb-41f6-a4e2-d9f9f8fa7ca8",
   "metadata": {},
   "outputs": [],
   "source": []
  }
 ],
 "metadata": {
  "kernelspec": {
   "display_name": "Python 3 (ipykernel)",
   "language": "python",
   "name": "python3"
  },
  "language_info": {
   "codemirror_mode": {
    "name": "ipython",
    "version": 3
   },
   "file_extension": ".py",
   "mimetype": "text/x-python",
   "name": "python",
   "nbconvert_exporter": "python",
   "pygments_lexer": "ipython3",
   "version": "3.12.9"
  }
 },
 "nbformat": 4,
 "nbformat_minor": 5
}
